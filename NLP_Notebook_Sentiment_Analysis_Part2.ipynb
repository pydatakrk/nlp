{
 "cells": [
  {
   "cell_type": "code",
   "execution_count": 1,
   "id": "2bcf3010",
   "metadata": {
    "id": "2bcf3010"
   },
   "outputs": [],
   "source": [
    "# !python -m spacy download en_core_web_sm\n",
    "# import spacy\n",
    "# spacy.load('en_core_web_sm')"
   ]
  },
  {
   "cell_type": "code",
   "execution_count": 2,
   "id": "9eab81be",
   "metadata": {
    "id": "9eab81be"
   },
   "outputs": [],
   "source": [
    "import spacy\n",
    "import torch\n",
    "import torchtext\n",
    "from torchtext.legacy import datasets, data\n",
    "import torch.nn.functional as F\n",
    "\n",
    "device = torch.device('cuda' if torch.cuda.is_available() else 'cpu')"
   ]
  },
  {
   "cell_type": "code",
   "execution_count": 3,
   "id": "f549101f",
   "metadata": {
    "id": "f549101f"
   },
   "outputs": [],
   "source": [
    "# Containers for tokenisation\n",
    "# using tokenize=\"spacy\" because it's the best.\n",
    "text_field = data.Field(tokenize=\"spacy\", tokenizer_language=\"en_core_web_sm\", fix_length=100, batch_first=True)\n",
    "label_field = data.LabelField(dtype=torch.float) # torch.float because GPUs use floats\n",
    "\n",
    "# Load dataset and split to train and test data\n",
    "# IMDB dataset (about movies)\n",
    "train, test = datasets.IMDB.splits(text_field=text_field, label_field=label_field)"
   ]
  },
  {
   "cell_type": "code",
   "execution_count": 4,
   "id": "8dc7770b",
   "metadata": {
    "id": "8dc7770b"
   },
   "outputs": [],
   "source": [
    "# Split to train and validation set - 80% to train_set, 20% to validation_set\n",
    "# The original set is 25k descriptions(?) so train_set after the split is 20k and valid_set is 5k.\n",
    "train_set, valid_set = train.split(0.8)\n",
    "len(train_set), len(valid_set)  # 20_000, 5_000\n",
    "text_field.build_vocab(train_set, max_size=25_000, vectors=\"glove.6B.100d\")\n",
    "label_field.build_vocab(train_set)\n",
    "\n",
    "assert len(text_field.vocab) == 25_002"
   ]
  },
  {
   "cell_type": "code",
   "execution_count": 5,
   "id": "2d2abd5f",
   "metadata": {
    "id": "2d2abd5f"
   },
   "outputs": [],
   "source": [
    "# Map int to string and string to int\n",
    "# text_field.vocab.itos[186] -> 'though'\n",
    "# text_field.vocab.stoi['though'] -> 186"
   ]
  },
  {
   "cell_type": "code",
   "execution_count": 6,
   "id": "6cc86523",
   "metadata": {
    "colab": {
     "base_uri": "https://localhost:8080/"
    },
    "id": "6cc86523",
    "outputId": "50de35a6-48a3-4095-c237-b5c9b9717407"
   },
   "outputs": [
    {
     "data": {
      "text/plain": [
       "['<unk>', '<pad>', 'the', ',', '.', 'and', 'a', 'of', 'to', 'is']"
      ]
     },
     "execution_count": 6,
     "metadata": {},
     "output_type": "execute_result"
    }
   ],
   "source": [
    "text_field.vocab.itos[:10]"
   ]
  },
  {
   "cell_type": "code",
   "execution_count": 7,
   "id": "089e9316",
   "metadata": {
    "id": "089e9316",
    "scrolled": false
   },
   "outputs": [],
   "source": [
    "len(max(train_set, key=lambda x: len(x.text)).text)\n",
    "\n",
    "# but we can do better!\n",
    "train_buckets, valid_buckets, test_buckets = data.BucketIterator.splits(\n",
    "    (train_set, valid_set, test), batch_size=64, device=device\n",
    ")"
   ]
  },
  {
   "cell_type": "code",
   "execution_count": 8,
   "id": "35a768f0",
   "metadata": {
    "id": "35a768f0"
   },
   "outputs": [],
   "source": [
    "from torch import nn\n",
    "from typing import Tuple\n",
    "\n",
    "\n",
    "class NLPModuleCNN(nn.Module):\n",
    "    def __init__(\n",
    "        self,\n",
    "        num_embedding: int,\n",
    "        embedding_dim: int,\n",
    "        out_channels: int,\n",
    "        kernel_size: Tuple[int],\n",
    "        out_features: int,\n",
    "        p_dropout: float,\n",
    "        pad_index: int,\n",
    "    ):\n",
    "        super().__init__()\n",
    "        self.embedding = nn.Embedding(\n",
    "            num_embedding, embedding_dim, padding_idx=pad_index\n",
    "        )\n",
    "        self.convo2d_0 = nn.Conv2d(1, out_channels, (kernel_size[0], embedding_dim))\n",
    "        self.convo2d_1 = nn.Conv2d(1, out_channels, (kernel_size[1], embedding_dim))\n",
    "        self.convo2d_2 = nn.Conv2d(1, out_channels, (kernel_size[2], embedding_dim))\n",
    "        self.pooling0 = nn.MaxPool1d(kernel_size=(99,))\n",
    "        self.pooling1 = nn.MaxPool1d(kernel_size=(98,))\n",
    "        self.pooling2 = nn.MaxPool1d(kernel_size=(94,))\n",
    "\n",
    "        self.linear = nn.Linear(in_features=out_channels * 3, out_features=out_features)\n",
    "        self.dropout = nn.Dropout(p=p_dropout)\n",
    "\n",
    "    def forward(self, input):\n",
    "        embed = self.embedding(input).unsqueeze(1)\n",
    "        c0 = F.relu(self.convo2d_0(embed).squeeze(3))\n",
    "        c1 = F.relu(self.convo2d_1(embed).squeeze(3))\n",
    "        c2 = F.relu(self.convo2d_2(embed).squeeze(3))\n",
    "        c0 = self.pooling0(c0).squeeze(2)\n",
    "        c1 = self.pooling1(c1).squeeze(2)\n",
    "        c2 = self.pooling2(c2).squeeze(2)\n",
    "        cc = torch.cat([c0, c1, c2], dim=1)\n",
    "        drop = self.dropout(cc)\n",
    "        lin = self.linear(drop)\n",
    "        return lin\n",
    "\n",
    "\n",
    "num_embedding = len(text_field.vocab)\n",
    "embedding_dim = 100\n",
    "hidden_size = 256\n",
    "out_features = 1\n",
    "\n",
    "model = NLPModuleCNN(\n",
    "    num_embedding=num_embedding,\n",
    "    embedding_dim=embedding_dim,\n",
    "    out_channels=100,\n",
    "    kernel_size=(2, 3, 7),\n",
    "    out_features=out_features,\n",
    "    p_dropout=0.5,\n",
    "    pad_index=text_field.vocab.stoi[text_field.pad_token],\n",
    ")"
   ]
  },
  {
   "cell_type": "code",
   "execution_count": 9,
   "id": "O46q7-7OfUqj",
   "metadata": {
    "colab": {
     "base_uri": "https://localhost:8080/"
    },
    "id": "O46q7-7OfUqj",
    "outputId": "85d713af-4a8c-419b-a694-77ba6ebfb338"
   },
   "outputs": [
    {
     "data": {
      "text/plain": [
       "Embedding(25002, 100, padding_idx=1)"
      ]
     },
     "execution_count": 9,
     "metadata": {},
     "output_type": "execute_result"
    }
   ],
   "source": [
    "model.embedding"
   ]
  },
  {
   "cell_type": "code",
   "execution_count": 18,
   "id": "SDhHPvnNbKnz",
   "metadata": {
    "colab": {
     "base_uri": "https://localhost:8080/"
    },
    "id": "SDhHPvnNbKnz",
    "outputId": "b27d8bdf-7037-4109-9714-d6927e0fff84"
   },
   "outputs": [
    {
     "name": "stderr",
     "output_type": "stream",
     "text": [
      "  0%|          | 0/313 [00:00<?, ?it/s]/usr/local/lib/python3.7/dist-packages/torch/nn/functional.py:1805: UserWarning: nn.functional.sigmoid is deprecated. Use torch.sigmoid instead.\n",
      "  warnings.warn(\"nn.functional.sigmoid is deprecated. Use torch.sigmoid instead.\")\n",
      "100%|██████████| 313/313 [00:23<00:00, 13.58it/s]\n"
     ]
    },
    {
     "name": "stdout",
     "output_type": "stream",
     "text": [
      "\n",
      "Train metrics 0.3914431076461134 0.8253294728434505\n"
     ]
    },
    {
     "name": "stderr",
     "output_type": "stream",
     "text": [
      "100%|██████████| 313/313 [00:22<00:00, 13.63it/s]\n"
     ]
    },
    {
     "name": "stdout",
     "output_type": "stream",
     "text": [
      "\n",
      "Train metrics 0.2925673274757763 0.880591054313099\n"
     ]
    },
    {
     "name": "stderr",
     "output_type": "stream",
     "text": [
      "100%|██████████| 313/313 [00:22<00:00, 13.63it/s]\n"
     ]
    },
    {
     "name": "stdout",
     "output_type": "stream",
     "text": [
      "\n",
      "Train metrics 0.19210479020501098 0.9274161341853036\n"
     ]
    },
    {
     "name": "stderr",
     "output_type": "stream",
     "text": [
      "100%|██████████| 313/313 [00:22<00:00, 13.64it/s]\n"
     ]
    },
    {
     "name": "stdout",
     "output_type": "stream",
     "text": [
      "\n",
      "Train metrics 0.11706266346307227 0.957867412140575\n"
     ]
    },
    {
     "name": "stderr",
     "output_type": "stream",
     "text": [
      "100%|██████████| 313/313 [00:23<00:00, 13.60it/s]"
     ]
    },
    {
     "name": "stdout",
     "output_type": "stream",
     "text": [
      "\n",
      "Train metrics 0.06932471878231523 0.9782847444089456\n"
     ]
    },
    {
     "name": "stderr",
     "output_type": "stream",
     "text": [
      "\n"
     ]
    }
   ],
   "source": [
    "for i in range(5):\n",
    "  train_losses, train_metrics = train(model, train_buckets, optimiser, criterion)\n",
    "  # validated_losses, validated_metrics = validate(model, valid_buckets, criterion)\n",
    "  \n",
    "  print()\n",
    "  print(\"Train metrics\", np.mean(train_losses), np.mean(train_metrics))\n",
    "  # print(\"Validation metrics\", np.mean(validated_losses), np.mean(validated_metrics))\n"
   ]
  },
  {
   "cell_type": "code",
   "execution_count": 11,
   "id": "S5Ke57xrsby4",
   "metadata": {
    "colab": {
     "base_uri": "https://localhost:8080/"
    },
    "id": "S5Ke57xrsby4",
    "outputId": "dfca9dbb-62fb-47ea-be6f-a36b356adcaf"
   },
   "outputs": [
    {
     "data": {
      "text/plain": [
       "tensor([[ 0.0000,  0.0000,  0.0000,  ...,  0.0000,  0.0000,  0.0000],\n",
       "        [ 0.0000,  0.0000,  0.0000,  ...,  0.0000,  0.0000,  0.0000],\n",
       "        [-0.0382, -0.2449,  0.7281,  ..., -0.1459,  0.8278,  0.2706],\n",
       "        ...,\n",
       "        [ 0.4168,  0.7670,  0.3845,  ...,  0.6391, -0.2302,  0.6662],\n",
       "        [ 0.5554, -0.4866, -0.3064,  ..., -1.4409, -0.4490, -0.2039],\n",
       "        [-0.2416,  0.6018,  0.6776,  ..., -0.2274, -0.1091,  0.5853]])"
      ]
     },
     "execution_count": 11,
     "metadata": {},
     "output_type": "execute_result"
    }
   ],
   "source": [
    "pre_trained_embeddings = text_field.vocab.vectors\n",
    "model.embedding.weight.data.copy_(pre_trained_embeddings)"
   ]
  },
  {
   "cell_type": "code",
   "execution_count": 12,
   "id": "a3c6bc10",
   "metadata": {
    "colab": {
     "base_uri": "https://localhost:8080/"
    },
    "id": "a3c6bc10",
    "outputId": "f51b8956-41bc-44f9-ca2e-38fdf3602565"
   },
   "outputs": [
    {
     "data": {
      "text/plain": [
       "2620801"
      ]
     },
     "execution_count": 12,
     "metadata": {},
     "output_type": "execute_result"
    }
   ],
   "source": [
    "def policz(mod):\n",
    "    return sum(p.numel() for p in mod.parameters())\n",
    "\n",
    "\n",
    "policz(model)"
   ]
  },
  {
   "cell_type": "code",
   "execution_count": 13,
   "id": "3fe5b41c",
   "metadata": {
    "id": "3fe5b41c"
   },
   "outputs": [],
   "source": [
    "# Stochastic gradient descent SGD\n",
    "# minimalizować funkcję kosztu (szukanie minimum)\n",
    "\n",
    "import torch.optim as optim\n",
    "\n",
    "optimiser = optim.Adam(model.parameters())\n",
    "\n",
    "criterion = nn.BCEWithLogitsLoss()"
   ]
  },
  {
   "cell_type": "code",
   "execution_count": 14,
   "id": "8058738f",
   "metadata": {
    "colab": {
     "base_uri": "https://localhost:8080/"
    },
    "id": "8058738f",
    "outputId": "a7982ef6-4b17-45dd-e3b8-e7f11099364d"
   },
   "outputs": [
    {
     "name": "stderr",
     "output_type": "stream",
     "text": [
      "/usr/local/lib/python3.7/dist-packages/torch/nn/functional.py:1805: UserWarning: nn.functional.sigmoid is deprecated. Use torch.sigmoid instead.\n",
      "  warnings.warn(\"nn.functional.sigmoid is deprecated. Use torch.sigmoid instead.\")\n"
     ]
    },
    {
     "data": {
      "text/plain": [
       "tensor(1.)"
      ]
     },
     "execution_count": 14,
     "metadata": {},
     "output_type": "execute_result"
    }
   ],
   "source": [
    "ciretrion = criterion.to(device)\n",
    "model = model.to(device)\n",
    "\n",
    "def binary_accuracy(prediction, target):\n",
    "    prediction = F.sigmoid(prediction)\n",
    "    prediction = torch.round(prediction)\n",
    "    \n",
    "    compared = (prediction == target).float()\n",
    "    return torch.mean(compared)\n",
    "\n",
    "\n",
    "T = torch.tensor\n",
    "binary_accuracy(T([0, 0.5, .2, 0.001, 0.8]), T([0, 1, 1, 1, 1]))"
   ]
  },
  {
   "cell_type": "code",
   "execution_count": 15,
   "id": "21dc8651",
   "metadata": {
    "id": "21dc8651"
   },
   "outputs": [],
   "source": [
    "import numpy as np\n",
    "import tqdm\n",
    "\n",
    "def train(mod, data, optimiser, criterion):\n",
    "    losses = []\n",
    "    metrics = []\n",
    "    mod = mod.to(device)\n",
    "\n",
    "    # train pozwala na akumulację błędów, które potem będziemy propagować wstecz\n",
    "    mod.train()\n",
    "\n",
    "    for bucket in tqdm.tqdm(data):\n",
    "        optimiser.zero_grad()\n",
    "        output = mod(bucket.text).squeeze(0).squeeze(1)\n",
    "        loss = criterion(output, bucket.label)\n",
    "        metric = binary_accuracy(output, bucket.label)\n",
    "        losses.append(loss.item())\n",
    "        metrics.append(metric.item())\n",
    "        loss.backward()\n",
    "        optimiser.step()\n",
    "        \n",
    "        # print(np.mean(losses), losses[-1], np.mean(metrics), metrics[-1])\n",
    "\n",
    "    return losses, metrics"
   ]
  },
  {
   "cell_type": "code",
   "execution_count": 30,
   "id": "-vHoNh6cYlcW",
   "metadata": {
    "id": "-vHoNh6cYlcW"
   },
   "outputs": [],
   "source": [
    "def validate(mod, data, criterion):\n",
    "    losses = []\n",
    "    metrics = []\n",
    "\n",
    "    # wyłącza akumulacje błędów (z którego korzystaliśmy w train)\n",
    "    mod.eval()\n",
    "\n",
    "    i = 0\n",
    "    for bucket in tqdm.tqdm(data):\n",
    "        i += 1\n",
    "        output = mod(bucket.text).squeeze(0).squeeze(1)\n",
    "        output2 = F.sigmoid(output)\n",
    "        # print(\" \".join(text_field.vocab.itos[t] for t in bucket.text[0]))\n",
    "        # print(f\"{bucket.label[0]}\")\n",
    "        # print(f\"{output2[0]}\")\n",
    "        # if i > 10:\n",
    "        #     break\n",
    "        loss = criterion(output, bucket.label)\n",
    "        metric = binary_accuracy(output, bucket.label)\n",
    "        losses.append(loss.item())\n",
    "        metrics.append(metric.item())        \n",
    "        # print(np.mean(losses), losses[-1], np.mean(metrics), metrics[-1])\n",
    "\n",
    "    return losses, metrics\n",
    "\n"
   ]
  },
  {
   "cell_type": "code",
   "execution_count": null,
   "id": "hvMObYJGhMCG",
   "metadata": {
    "id": "hvMObYJGhMCG"
   },
   "outputs": [],
   "source": [
    "tokenizer = spacy.load(\"en_core_web_sm\")"
   ]
  },
  {
   "cell_type": "code",
   "execution_count": 32,
   "id": "3HJfcp5kmNln",
   "metadata": {
    "colab": {
     "base_uri": "https://localhost:8080/"
    },
    "id": "3HJfcp5kmNln",
    "outputId": "db95b6f8-abf8-4f21-adcc-043644a93a7a"
   },
   "outputs": [
    {
     "name": "stderr",
     "output_type": "stream",
     "text": [
      "  0%|          | 0/79 [00:00<?, ?it/s]/usr/local/lib/python3.7/dist-packages/torch/nn/functional.py:1805: UserWarning: nn.functional.sigmoid is deprecated. Use torch.sigmoid instead.\n",
      "  warnings.warn(\"nn.functional.sigmoid is deprecated. Use torch.sigmoid instead.\")\n",
      "100%|██████████| 79/79 [00:03<00:00, 21.87it/s]"
     ]
    },
    {
     "name": "stdout",
     "output_type": "stream",
     "text": [
      "Validation metrics 0.5622538211224954 0.8225870253164557\n"
     ]
    },
    {
     "name": "stderr",
     "output_type": "stream",
     "text": [
      "\n"
     ]
    }
   ],
   "source": [
    "validated_losses, validated_metrics = validate(model, valid_buckets, criterion)\n",
    "print(\"Validation metrics\", np.mean(validated_losses), np.mean(validated_metrics))"
   ]
  },
  {
   "cell_type": "code",
   "execution_count": 43,
   "id": "duTnnc-OqYFd",
   "metadata": {
    "colab": {
     "base_uri": "https://localhost:8080/"
    },
    "id": "duTnnc-OqYFd",
    "outputId": "0c91f2af-fa78-425b-bab3-10b9f762c3a6"
   },
   "outputs": [
    {
     "name": "stdout",
     "output_type": "stream",
     "text": [
      "it's bad [0.01331738]\n",
      "it's good [0.70586455]\n",
      "it's very bad [0.00305904]\n",
      "it's very good [0.7671886]\n",
      "it's aweful [0.5152253]\n",
      "it's awesome [0.9950681]\n",
      "it's great [0.97548]\n",
      "i like this film [0.39024082]\n",
      "i don't like this film [0.36981544]\n",
      "it is the best movie I have ever seen [0.9745034]\n",
      "it is the worst movie I have ever seen [0.00016863]\n",
      "borat was the great success, i very much liked this movie, best movie ever [0.99732214]\n",
      "very boring movie I didn't like it [0.00905165]\n"
     ]
    },
    {
     "name": "stderr",
     "output_type": "stream",
     "text": [
      "/usr/local/lib/python3.7/dist-packages/torch/nn/functional.py:1805: UserWarning: nn.functional.sigmoid is deprecated. Use torch.sigmoid instead.\n",
      "  warnings.warn(\"nn.functional.sigmoid is deprecated. Use torch.sigmoid instead.\")\n"
     ]
    }
   ],
   "source": [
    "def s2(model, sentence: str) -> bool:\n",
    "    tt = [t for t in sentence.split()]\n",
    "    tt = tt[:100]\n",
    "    while len(tt) < 100:\n",
    "        tt.append(\"<pad>\")\n",
    "\n",
    "    m = F.sigmoid(model(torch.LongTensor([[text_field.vocab.stoi[t] for t in tt],]).to(device)))\n",
    "    print(sentence, m.to(\"cpu\").detach().numpy().ravel())\n",
    "\n",
    "s2(model, \"it's bad\")\n",
    "s2(model, \"it's good\")\n",
    "s2(model, \"it's very bad\")\n",
    "s2(model, \"it's very good\")\n",
    "s2(model, \"it's aweful\")\n",
    "s2(model, \"it's awesome\")\n",
    "s2(model, \"it's great\")\n",
    "s2(model, \"i like this film\")\n",
    "s2(model, \"i don't like this film\")\n",
    "s2(model, \"it is the best movie I have ever seen\")\n",
    "s2(model, \"it is the worst movie I have ever seen\")\n",
    "s2(model, \"borat was the great success, i very much liked this movie, best movie ever\")\n",
    "s2(model, \"very boring movie I didn't like it\")"
   ]
  },
  {
   "cell_type": "code",
   "execution_count": null,
   "id": "2GLNb1xufMqW",
   "metadata": {
    "id": "2GLNb1xufMqW"
   },
   "outputs": [],
   "source": [
    "def sentiment(model, sentence: str) -> bool:\n",
    "    tokens = tokenizer.tokenizer(sentence)\n",
    "    tokenized = [text_field.vocab.stoi[t.text] for t in tokens]\n",
    "    print(\"|\".join(text_field.vocab.itos[t] for t in tokenized))\n",
    "    result = F.sigmoid(model(torch.LongTensor(tokenized).unsqueeze(1).to(device)))\n",
    "    print(result.to(\"cpu\").detach().numpy().ravel(), sentence)\n",
    "\n",
    "sentiment(model, \"it's bad\")\n",
    "sentiment(model, \"it's good\")\n",
    "sentiment(model, \"it's very bad\")\n",
    "sentiment(model, \"it's very good\")\n",
    "sentiment(model, \"it's aweful\")\n",
    "sentiment(model, \"it's awesome\")\n",
    "sentiment(model, \"it's great\")\n",
    "sentiment(model, \"i like this film\")\n",
    "sentiment(model, \"i don't like this film\")\n",
    "sentiment(model, \"it is the best movie I have ever seen\")\n",
    "sentiment(model, \"it is the worst movie I have ever seen\")\n",
    "sentiment(model, \"borat was the great success, i very much liked this movie, best movie ever\")\n",
    "sentiment(model, \"very boring movie I didn't like it\")"
   ]
  },
  {
   "cell_type": "code",
   "execution_count": null,
   "id": "iwlFk4RDlpPK",
   "metadata": {
    "id": "iwlFk4RDlpPK"
   },
   "outputs": [],
   "source": [
    "shawshank = \"\"\"\n",
    "Why do I want to write the 234th comment on The Shawshank Redemption? I am not sure - almost everything that could be possibly said about it has been said. But like so many other people who wrote comments, I was and am profoundly moved by this simple and eloquent depiction of hope and friendship and redemption.\n",
    "\n",
    "The only other movie I have ever seen that effects me as strongly is To Kill a Mockingbird. Both movies leave me feeling cleaner for having watched them.\n",
    "\"\"\"\n",
    "\n",
    "sentiment(model, shawshank)\n",
    "\n",
    "shawshank2 = \"\"\"\n",
    "This film is nothing but one cliche after another. Having seen many of the 100's of prison films made from the early 30's to the 50's, I was able to pull almost every minute of Shawcrap from one of those films.\n",
    "\n",
    "While it is visually well made and acted, the story has every plot point of the \"standard\" prison film. They have the evil warden, innocent main character, friendly guilty guy, thugs and one good old prisoner. Don't waste your time on this one. Rent or buy some of the classic's of the prison genre\n",
    "\"\"\"\n",
    "sentiment(model, shawshank2)\n",
    "\n",
    "reddit = \"\"\"............ . . . . . . .. ... … ....................................................................................................\"\"\"\n",
    "sentiment(model, reddit)\n",
    "\n",
    "\n",
    "klasa = \"\"\"\n",
    "Kant has written a treatise on _The Vital Powers_; but I should like to\n",
    "write a dirge on them, since their lavish use in the form of knocking,\n",
    "hammering, and tumbling things about has made the whole of my life a\n",
    "daily torment. Certainly there are people, nay, very many, who will\n",
    "smile at this, because they are not sensitive to noise; it is precisely\n",
    "these people, however, who are not sensitive to argument, thought,\n",
    "poetry or art, in short, to any kind of intellectual impression: a fact\n",
    "to be assigned to the coarse quality and strong texture of their brain\n",
    "tissues.\n",
    "\"\"\"\n",
    "\n",
    "sentiment(model, klasa)"
   ]
  },
  {
   "cell_type": "code",
   "execution_count": null,
   "id": "e80feb3a",
   "metadata": {
    "id": "e80feb3a"
   },
   "outputs": [],
   "source": [
    "sentiment(model, \"great success\")\n",
    "# Funkcja kosztu, im bliżej 1 (target) tym funkcja kosztu maleje.\n",
    "\n",
    "target = torch.ones([1, 1], dtype=torch.float32)  # 64 classes, batch size = 10\n",
    "input_ = torch.full([1, 1], 0.1)  # A prediction (logit)\n",
    "\n",
    "print(F.binary_cross_entropy_with_logits(input_, target))\n",
    "\n",
    "target = torch.ones([1, 1], dtype=torch.float32)  # 64 classes, batch size = 10\n",
    "input_ = torch.full([1, 1], 0.4)  # A prediction (logit)\n",
    "\n",
    "print(F.binary_cross_entropy_with_logits(input_, target))\n",
    "\n",
    "target = torch.ones([1, 1], dtype=torch.float32)  # 64 classes, batch size = 10\n",
    "input_ = torch.full([1, 1], 0.7)  # A prediction (logit)\n",
    "\n",
    "print(F.binary_cross_entropy_with_logits(input_, target))\n",
    "\n",
    "target = torch.ones([1, 1], dtype=torch.float32)  # 64 classes, batch size = 10\n",
    "input_ = torch.full([1, 1], 0.9)  # A prediction (logit)\n",
    "\n",
    "print(F.binary_cross_entropy_with_logits(input_, target))\n",
    "\n",
    "target, input_"
   ]
  },
  {
   "cell_type": "code",
   "execution_count": null,
   "id": "Axn_JzP4YkIe",
   "metadata": {
    "id": "Axn_JzP4YkIe"
   },
   "outputs": [],
   "source": []
  },
  {
   "cell_type": "code",
   "execution_count": null,
   "id": "dfac9f54",
   "metadata": {
    "id": "dfac9f54"
   },
   "outputs": [],
   "source": [
    ">>> rnn = nn.RNN(3, 2, 1)\n",
    ">>> input = torch.randn(5, 3, 3)\n",
    ">>> h0 = torch.randn(1, 3, 2)\n",
    ">>> output, hn = rnn(input, h0)\n",
    "output, hn"
   ]
  },
  {
   "cell_type": "code",
   "execution_count": null,
   "id": "b8440222",
   "metadata": {
    "id": "b8440222"
   },
   "outputs": [],
   "source": [
    ">>> # an Embedding module containing 10 tensors of size 3\n",
    ">>> embedding = nn.Embedding(100, 19)\n",
    ">>> # a batch of 2 samples of 4 indices each\n",
    ">>> input = torch.LongTensor([[1,98,1,0, 4,3,2,9],[4,3,2,9, 4,3,2,9]])\n",
    ">>> embedding(input)"
   ]
  }
 ],
 "metadata": {
  "accelerator": "GPU",
  "colab": {
   "collapsed_sections": [],
   "name": "NLP Notebook - Sentiment Analysis Part2.ipynb",
   "provenance": []
  },
  "jupytext": {
   "encoding": "# -*- coding: utf-8 -*-",
   "formats": "ipynb,py:percent"
  },
  "kernelspec": {
   "display_name": "Python 3",
   "language": "python",
   "name": "python3"
  },
  "language_info": {
   "codemirror_mode": {
    "name": "ipython",
    "version": 3
   },
   "file_extension": ".py",
   "mimetype": "text/x-python",
   "name": "python",
   "nbconvert_exporter": "python",
   "pygments_lexer": "ipython3",
   "version": "3.8.8"
  }
 },
 "nbformat": 4,
 "nbformat_minor": 5
}
