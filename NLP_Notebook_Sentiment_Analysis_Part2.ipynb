{
 "cells": [
  {
   "cell_type": "code",
   "execution_count": 1,
   "id": "2bcf3010",
   "metadata": {
    "id": "2bcf3010"
   },
   "outputs": [],
   "source": [
    "# !python -m spacy download en_core_web_sm\n",
    "# import spacy\n",
    "# spacy.load('en_core_web_sm')"
   ]
  },
  {
   "cell_type": "code",
   "execution_count": 2,
   "id": "9eab81be",
   "metadata": {
    "id": "9eab81be"
   },
   "outputs": [],
   "source": [
    "import spacy\n",
    "import torch\n",
    "import torchtext\n",
    "from torchtext.legacy import datasets, data\n",
    "import torch.nn.functional as F\n",
    "\n",
    "device = torch.device('cuda' if torch.cuda.is_available() else 'cpu')"
   ]
  },
  {
   "cell_type": "code",
   "execution_count": null,
   "id": "f549101f",
   "metadata": {
    "id": "f549101f"
   },
   "outputs": [],
   "source": [
    "# Containers for tokenisation\n",
    "# using tokenize=\"spacy\" because it's the best.\n",
    "text_field = data.Field(tokenize=\"spacy\", tokenizer_language=\"en_core_web_sm\", fix_length=100, batch_first=True)\n",
    "label_field = data.LabelField(dtype=torch.float) # torch.float because GPUs use floats\n",
    "\n",
    "# Load dataset and split to train and test data\n",
    "# IMDB dataset (about movies)\n",
    "train, test = datasets.IMDB.splits(text_field=text_field, label_field=label_field)"
   ]
  },
  {
   "cell_type": "code",
   "execution_count": null,
   "id": "8dc7770b",
   "metadata": {
    "id": "8dc7770b"
   },
   "outputs": [],
   "source": [
    "# Split to train and validation set - 80% to train_set, 20% to validation_set\n",
    "# The original set is 25k descriptions(?) so train_set after the split is 20k and valid_set is 5k.\n",
    "train_set, valid_set = train.split(0.8)\n",
    "len(train_set), len(valid_set)  # 20_000, 5_000\n",
    "text_field.build_vocab(train_set, max_size=25_000, vectors=\"glove.6B.100d\")\n",
    "label_field.build_vocab(train_set)\n",
    "\n",
    "assert len(text_field.vocab) == 25_002"
   ]
  },
  {
   "cell_type": "code",
   "execution_count": null,
   "id": "2d2abd5f",
   "metadata": {
    "id": "2d2abd5f"
   },
   "outputs": [],
   "source": [
    "# Map int to string and string to int\n",
    "# text_field.vocab.itos[186] -> 'though'\n",
    "# text_field.vocab.stoi['though'] -> 186"
   ]
  },
  {
   "cell_type": "code",
   "execution_count": null,
   "id": "6cc86523",
   "metadata": {
    "colab": {
     "base_uri": "https://localhost:8080/"
    },
    "id": "6cc86523",
    "outputId": "bfbd22be-78e2-4aea-a0a7-a9c9480c537a"
   },
   "outputs": [],
   "source": [
    "text_field.vocab.itos[:10]"
   ]
  },
  {
   "cell_type": "code",
   "execution_count": null,
   "id": "089e9316",
   "metadata": {
    "id": "089e9316",
    "scrolled": false
   },
   "outputs": [],
   "source": [
    "len(max(train_set, key=lambda x: len(x.text)).text)\n",
    "\n",
    "# but we can do better!\n",
    "train_buckets, valid_buckets, test_buckets = data.BucketIterator.splits(\n",
    "    (train_set, valid_set, test), batch_size=64, device=device\n",
    ")"
   ]
  },
  {
   "cell_type": "code",
   "execution_count": null,
   "id": "35a768f0",
   "metadata": {
    "id": "35a768f0"
   },
   "outputs": [],
   "source": [
    "from torch import nn\n",
    "from typing import Tuple\n",
    "\n",
    "\n",
    "class NLPModuleCNN(nn.Module):\n",
    "    def __init__(\n",
    "        self,\n",
    "        num_embedding: int,\n",
    "        embedding_dim: int,\n",
    "        out_channels: int,\n",
    "        kernel_size: Tuple[int],\n",
    "        out_features: int,\n",
    "        p_dropout: float,\n",
    "        pad_index: int,\n",
    "    ):\n",
    "        super().__init__()\n",
    "        self.embedding = nn.Embedding(\n",
    "            num_embedding, embedding_dim, padding_idx=pad_index\n",
    "        )\n",
    "        self.convo2d_0 = nn.Conv2d(1, out_channels, (kernel_size[0], embedding_dim))\n",
    "        self.convo2d_1 = nn.Conv2d(1, out_channels, (kernel_size[1], embedding_dim))\n",
    "        self.convo2d_2 = nn.Conv2d(1, out_channels, (kernel_size[2], embedding_dim))\n",
    "        self.linear = nn.Linear(in_features=out_channels * 3, out_features=out_features)\n",
    "        self.dropout = nn.Dropout(p=p_dropout)\n",
    "\n",
    "    def forward(self, input):\n",
    "        embed = self.embedding(input)\n",
    "        c0 = F.relu(self.convo2d_0(embed))\n",
    "        c1 = F.relu(self.convo2d_1(embed))\n",
    "        c2 = F.relu(self.convo2d_2(embed))\n",
    "        c0 = F.max_pool1d(c0)\n",
    "        c1 = F.max_pool1d(c1)\n",
    "        c2 = F.max_pool1d(c2)\n",
    "        lin = self.linear(torch.cat([c0, c1, c2]))\n",
    "        return lin\n",
    "\n",
    "\n",
    "num_embedding = len(text_field.vocab)\n",
    "embedding_dim = 100\n",
    "hidden_size = 256\n",
    "out_features = 1\n",
    "\n",
    "model = NLPModuleCNN(\n",
    "    num_embedding=num_embedding,\n",
    "    embedding_dim=embedding_dim,\n",
    "    out_channels=100,\n",
    "    kernel_size=(2, 3, 7),\n",
    "    out_features=out_features,\n",
    "    p_dropout=0.5,\n",
    "    pad_index=text_field.vocab.stoi[text_field.pad_token],\n",
    ")"
   ]
  },
  {
   "cell_type": "code",
   "execution_count": null,
   "id": "S5Ke57xrsby4",
   "metadata": {
    "colab": {
     "base_uri": "https://localhost:8080/"
    },
    "id": "S5Ke57xrsby4",
    "outputId": "e8c521ca-399c-4533-f67d-6132e977106b"
   },
   "outputs": [],
   "source": [
    "pre_trained_embeddings = text_field.vocab.vectors\n",
    "model.embedding.weight.data.copy_(pre_trained_embeddings)"
   ]
  },
  {
   "cell_type": "code",
   "execution_count": null,
   "id": "a3c6bc10",
   "metadata": {
    "colab": {
     "base_uri": "https://localhost:8080/"
    },
    "id": "a3c6bc10",
    "outputId": "bdb3ca18-2887-4fd5-8b0e-deebbed81fe6"
   },
   "outputs": [],
   "source": [
    "def policz(mod):\n",
    "    return sum(p.numel() for p in mod.parameters())\n",
    "\n",
    "\n",
    "policz(model)"
   ]
  },
  {
   "cell_type": "code",
   "execution_count": null,
   "id": "3fe5b41c",
   "metadata": {
    "id": "3fe5b41c"
   },
   "outputs": [],
   "source": [
    "# Stochastic gradient descent SGD\n",
    "# minimalizować funkcję kosztu (szukanie minimum)\n",
    "\n",
    "import torch.optim as optim\n",
    "\n",
    "optimiser = optim.Adam(model.parameters())\n",
    "\n",
    "criterion = nn.BCEWithLogitsLoss()"
   ]
  },
  {
   "cell_type": "code",
   "execution_count": null,
   "id": "8058738f",
   "metadata": {
    "colab": {
     "base_uri": "https://localhost:8080/"
    },
    "id": "8058738f",
    "outputId": "c9b718f2-9e52-475d-ab8a-427ddbc65de8"
   },
   "outputs": [],
   "source": [
    "ciretrion = criterion.to(device)\n",
    "model = model.to(device)\n",
    "\n",
    "def binary_accuracy(prediction, target):\n",
    "    prediction = F.sigmoid(prediction)\n",
    "    prediction = torch.round(prediction)\n",
    "    \n",
    "    compared = (prediction == target).float()\n",
    "    return torch.mean(compared)\n",
    "\n",
    "\n",
    "T = torch.tensor\n",
    "binary_accuracy(T([0, 0.5, .2, 0.001, 0.8]), T([0, 1, 1, 1, 1]))"
   ]
  },
  {
   "cell_type": "code",
   "execution_count": null,
   "id": "21dc8651",
   "metadata": {
    "id": "21dc8651"
   },
   "outputs": [],
   "source": [
    "import numpy as np\n",
    "import tqdm\n",
    "\n",
    "def train(mod, data, optimiser, criterion):\n",
    "    losses = []\n",
    "    metrics = []\n",
    "    mod = mod.to(device)\n",
    "\n",
    "    # train pozwala na akumulację błędów, które potem będziemy propagować wstecz\n",
    "    mod.train()\n",
    "\n",
    "    for bucket in tqdm.tqdm(data):\n",
    "        optimiser.zero_grad()\n",
    "        output = mod(bucket.text).squeeze(0).squeeze(1)\n",
    "        loss = criterion(output, bucket.label)\n",
    "        metric = binary_accuracy(output, bucket.label)\n",
    "        losses.append(loss.item())\n",
    "        metrics.append(metric.item())\n",
    "        loss.backward()\n",
    "        optimiser.step()\n",
    "        \n",
    "        # print(np.mean(losses), losses[-1], np.mean(metrics), metrics[-1])\n",
    "\n",
    "    return losses, metrics"
   ]
  },
  {
   "cell_type": "code",
   "execution_count": null,
   "id": "-vHoNh6cYlcW",
   "metadata": {
    "id": "-vHoNh6cYlcW"
   },
   "outputs": [],
   "source": [
    "def validate(mod, data, criterion):\n",
    "    losses = []\n",
    "    metrics = []\n",
    "\n",
    "    # wyłącza akumulacje błędów (z którego korzystaliśmy w train)\n",
    "    mod.eval()\n",
    "\n",
    "    for bucket in tqdm.tqdm(data):\n",
    "        output = mod(bucket.text).squeeze(0).squeeze(1)\n",
    "        loss = criterion(output, bucket.label)\n",
    "        metric = binary_accuracy(output, bucket.label)\n",
    "        losses.append(loss.item())\n",
    "        metrics.append(metric.item())        \n",
    "        # print(np.mean(losses), losses[-1], np.mean(metrics), metrics[-1])\n",
    "\n",
    "    return losses, metrics\n",
    "\n"
   ]
  },
  {
   "cell_type": "code",
   "execution_count": null,
   "id": "SDhHPvnNbKnz",
   "metadata": {
    "colab": {
     "base_uri": "https://localhost:8080/",
     "height": 400
    },
    "id": "SDhHPvnNbKnz",
    "outputId": "f40c362e-450e-4a12-aa2b-b6646adfa4bd"
   },
   "outputs": [],
   "source": [
    "for i in range(5):\n",
    "  train_losses, train_metrics = train(model, train_buckets, optimiser, criterion)\n",
    "  validated_losses, validated_metrics = validate(model, valid_buckets, criterion)\n",
    "  \n",
    "  print()\n",
    "  print(\"Train metrics\", np.mean(train_losses), np.mean(train_metrics))\n",
    "  print(\"Validation metrics\", np.mean(validated_losses), np.mean(validated_metrics))\n"
   ]
  },
  {
   "cell_type": "code",
   "execution_count": null,
   "id": "hvMObYJGhMCG",
   "metadata": {
    "id": "hvMObYJGhMCG"
   },
   "outputs": [],
   "source": [
    "tokenizer = spacy.load(\"en_core_web_sm\")"
   ]
  },
  {
   "cell_type": "code",
   "execution_count": null,
   "id": "2GLNb1xufMqW",
   "metadata": {
    "id": "2GLNb1xufMqW"
   },
   "outputs": [],
   "source": [
    "def sentiment(model, sentence: str) -> bool:\n",
    "    tokens = tokenizer.tokenizer(sentence)\n",
    "    tokenized = [text_field.vocab.stoi[t.text] for t in tokens]\n",
    "    print(\"|\".join(text_field.vocab.itos[t] for t in tokenized))\n",
    "    result = F.sigmoid(model(torch.LongTensor(tokenized).unsqueeze(1).to(device)))\n",
    "    print(result.to(\"cpu\").detach().numpy().ravel(), sentence)\n",
    "\n",
    "sentiment(model, \"it's bad\")\n",
    "sentiment(model, \"it's good\")\n",
    "sentiment(model, \"it's very bad\")\n",
    "sentiment(model, \"it's very good\")\n",
    "sentiment(model, \"it's aweful\")\n",
    "sentiment(model, \"it's awesome\")\n",
    "sentiment(model, \"it's great\")\n",
    "sentiment(model, \"i like this film\")\n",
    "sentiment(model, \"i don't like this film\")\n",
    "sentiment(model, \"it is the best movie I have ever seen\")\n",
    "sentiment(model, \"it is the worst movie I have ever seen\")\n",
    "sentiment(model, \"borat was the great success, i very much liked this movie, best movie ever\")\n",
    "sentiment(model, \"very boring movie I didn't like it\")"
   ]
  },
  {
   "cell_type": "code",
   "execution_count": null,
   "id": "iwlFk4RDlpPK",
   "metadata": {
    "id": "iwlFk4RDlpPK"
   },
   "outputs": [],
   "source": [
    "shawshank = \"\"\"\n",
    "Why do I want to write the 234th comment on The Shawshank Redemption? I am not sure - almost everything that could be possibly said about it has been said. But like so many other people who wrote comments, I was and am profoundly moved by this simple and eloquent depiction of hope and friendship and redemption.\n",
    "\n",
    "The only other movie I have ever seen that effects me as strongly is To Kill a Mockingbird. Both movies leave me feeling cleaner for having watched them.\n",
    "\"\"\"\n",
    "\n",
    "sentiment(model, shawshank)\n",
    "\n",
    "shawshank2 = \"\"\"\n",
    "This film is nothing but one cliche after another. Having seen many of the 100's of prison films made from the early 30's to the 50's, I was able to pull almost every minute of Shawcrap from one of those films.\n",
    "\n",
    "While it is visually well made and acted, the story has every plot point of the \"standard\" prison film. They have the evil warden, innocent main character, friendly guilty guy, thugs and one good old prisoner. Don't waste your time on this one. Rent or buy some of the classic's of the prison genre\n",
    "\"\"\"\n",
    "sentiment(model, shawshank2)\n",
    "\n",
    "reddit = \"\"\"............ . . . . . . .. ... … ....................................................................................................\"\"\"\n",
    "sentiment(model, reddit)\n",
    "\n",
    "\n",
    "klasa = \"\"\"\n",
    "Kant has written a treatise on _The Vital Powers_; but I should like to\n",
    "write a dirge on them, since their lavish use in the form of knocking,\n",
    "hammering, and tumbling things about has made the whole of my life a\n",
    "daily torment. Certainly there are people, nay, very many, who will\n",
    "smile at this, because they are not sensitive to noise; it is precisely\n",
    "these people, however, who are not sensitive to argument, thought,\n",
    "poetry or art, in short, to any kind of intellectual impression: a fact\n",
    "to be assigned to the coarse quality and strong texture of their brain\n",
    "tissues.\n",
    "\"\"\"\n",
    "\n",
    "sentiment(model, klasa)"
   ]
  },
  {
   "cell_type": "code",
   "execution_count": null,
   "id": "e80feb3a",
   "metadata": {
    "id": "e80feb3a"
   },
   "outputs": [],
   "source": [
    "sentiment(model, \"great success\")\n",
    "# Funkcja kosztu, im bliżej 1 (target) tym funkcja kosztu maleje.\n",
    "\n",
    "target = torch.ones([1, 1], dtype=torch.float32)  # 64 classes, batch size = 10\n",
    "input_ = torch.full([1, 1], 0.1)  # A prediction (logit)\n",
    "\n",
    "print(F.binary_cross_entropy_with_logits(input_, target))\n",
    "\n",
    "target = torch.ones([1, 1], dtype=torch.float32)  # 64 classes, batch size = 10\n",
    "input_ = torch.full([1, 1], 0.4)  # A prediction (logit)\n",
    "\n",
    "print(F.binary_cross_entropy_with_logits(input_, target))\n",
    "\n",
    "target = torch.ones([1, 1], dtype=torch.float32)  # 64 classes, batch size = 10\n",
    "input_ = torch.full([1, 1], 0.7)  # A prediction (logit)\n",
    "\n",
    "print(F.binary_cross_entropy_with_logits(input_, target))\n",
    "\n",
    "target = torch.ones([1, 1], dtype=torch.float32)  # 64 classes, batch size = 10\n",
    "input_ = torch.full([1, 1], 0.9)  # A prediction (logit)\n",
    "\n",
    "print(F.binary_cross_entropy_with_logits(input_, target))\n",
    "\n",
    "target, input_"
   ]
  },
  {
   "cell_type": "code",
   "execution_count": null,
   "id": "Axn_JzP4YkIe",
   "metadata": {
    "id": "Axn_JzP4YkIe"
   },
   "outputs": [],
   "source": []
  },
  {
   "cell_type": "code",
   "execution_count": null,
   "id": "dfac9f54",
   "metadata": {
    "id": "dfac9f54"
   },
   "outputs": [],
   "source": [
    ">>> rnn = nn.RNN(3, 2, 1)\n",
    ">>> input = torch.randn(5, 3, 3)\n",
    ">>> h0 = torch.randn(1, 3, 2)\n",
    ">>> output, hn = rnn(input, h0)\n",
    "output, hn"
   ]
  },
  {
   "cell_type": "code",
   "execution_count": null,
   "id": "b8440222",
   "metadata": {
    "id": "b8440222"
   },
   "outputs": [],
   "source": [
    ">>> # an Embedding module containing 10 tensors of size 3\n",
    ">>> embedding = nn.Embedding(100, 19)\n",
    ">>> # a batch of 2 samples of 4 indices each\n",
    ">>> input = torch.LongTensor([[1,98,1,0, 4,3,2,9],[4,3,2,9, 4,3,2,9]])\n",
    ">>> embedding(input)"
   ]
  }
 ],
 "metadata": {
  "accelerator": "GPU",
  "colab": {
   "collapsed_sections": [],
   "name": "NLP Notebook - Sentiment Analysis Part2.ipynb",
   "provenance": []
  },
  "jupytext": {
   "encoding": "# -*- coding: utf-8 -*-",
   "formats": "ipynb,py:percent"
  },
  "kernelspec": {
   "display_name": "Python 3",
   "language": "python",
   "name": "python3"
  },
  "language_info": {
   "codemirror_mode": {
    "name": "ipython",
    "version": 3
   },
   "file_extension": ".py",
   "mimetype": "text/x-python",
   "name": "python",
   "nbconvert_exporter": "python",
   "pygments_lexer": "ipython3",
   "version": "3.8.8"
  }
 },
 "nbformat": 4,
 "nbformat_minor": 5
}
